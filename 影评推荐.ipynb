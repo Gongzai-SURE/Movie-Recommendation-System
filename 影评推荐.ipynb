{
 "cells": [
  {
   "cell_type": "markdown",
   "id": "6390eb28",
   "metadata": {},
   "source": [
    "# 电影推荐系统——Auto Lee"
   ]
  },
  {
   "cell_type": "markdown",
   "id": "db435a8f",
   "metadata": {},
   "source": [
    "数据收集的快速增长带来了一个新的信息时代。数据被用来创建更有效的系统，这就是推荐系统发挥作用的地方。推荐系统是一种信息过滤系统，它可以提高搜索结果的质量，并提供与搜索项目更相关的项目或与用户的搜索历史相关的项目。"
   ]
  },
  {
   "cell_type": "markdown",
   "id": "b2091979",
   "metadata": {},
   "source": [
    "它们被用来预测用户对商品的评级或偏好。几乎每一家大型科技公司都以这样或那样的形式应用了它们:亚马逊(Amazon)用它向客户推荐产品，YouTube用它来决定自动播放的下一个视频，Facebook用它来推荐喜欢的页面和关注的人。此外，Netflix和Spotify等公司的业务和成功高度依赖于其推荐引擎的有效性。"
   ]
  },
  {
   "cell_type": "markdown",
   "id": "37f6c98a",
   "metadata": {},
   "source": [
    "本次实验将从两种典型的推荐模式出发，使用TMDB 5000电影数据集构建一个基础的电影推荐系统。"
   ]
  },
  {
   "cell_type": "markdown",
   "id": "2898d1cb",
   "metadata": {},
   "source": [
    "## 三种经典推荐模式"
   ]
  },
  {
   "cell_type": "markdown",
   "id": "29df2466",
   "metadata": {},
   "source": [
    "* 传统协同过滤-Demographic Filtering（人口统计学推荐）\n",
    "* 基于内容的过滤-Content Based Filtering\n",
    "* 协同过滤-Collaborative Filtering"
   ]
  },
  {
   "cell_type": "markdown",
   "id": "ddb29a14",
   "metadata": {},
   "source": [
    "## 数据导入"
   ]
  },
  {
   "cell_type": "code",
   "execution_count": 1,
   "id": "2d2f033f",
   "metadata": {},
   "outputs": [],
   "source": [
    "import pandas as pd \n",
    "import numpy as np \n",
    "df1=pd.read_csv('tmdb_5000_credits.csv')\n",
    "df2=pd.read_csv('tmdb_5000_movies.csv')"
   ]
  },
  {
   "cell_type": "markdown",
   "id": "25ba59a8",
   "metadata": {},
   "source": [
    "### 第一个数据集包括:\n",
    "* movie_id - 每部电影的id\n",
    "* cast - 主角和配角的名字\n",
    "* crew - 导演、编辑、作曲家、作家等\n",
    "\n",
    "\n",
    "### 第二个数据集包括：\n",
    "* budget - 预算\n",
    "* genre - 电影的类型，动作，喜剧，惊悚等\n",
    "* homepage - 电影主页的链接\n",
    "* id - 第一个数据集中的movie_id\n",
    "* keywords - 与电影相关的关键词或标签\n",
    "* original_language - 电影母语\n",
    "* original_title - 在翻译或改编之前的电影名称\n",
    "* overview - 电影概要\n",
    "* popularity - 电影受欢迎程度的数值\n",
    "* production_companies - 制作公司\n",
    "* production_countries - 所属国家\n",
    "* release_date - 发布日期\n",
    "* revenue - 全球收入\n",
    "* runtime - 放映时间（以分钟为单位）\n",
    "* status - 已发布/未公映\n",
    "* tagline - 标语\n",
    "* title - 电影名\n",
    "* vote_average - 平均评分\n",
    "* vote_count - 评论人数"
   ]
  },
  {
   "cell_type": "markdown",
   "id": "e06e4168",
   "metadata": {},
   "source": [
    "### 对两个表按照movie_id键值进行内连接"
   ]
  },
  {
   "cell_type": "code",
   "execution_count": 2,
   "id": "a398cb07",
   "metadata": {},
   "outputs": [],
   "source": [
    "df1.columns = ['id','tittle','cast','crew']\n",
    "df2= df2.merge(df1,on='id')"
   ]
  },
  {
   "cell_type": "code",
   "execution_count": 3,
   "id": "106784af",
   "metadata": {},
   "outputs": [
    {
     "data": {
      "text/html": [
       "<div>\n",
       "<style scoped>\n",
       "    .dataframe tbody tr th:only-of-type {\n",
       "        vertical-align: middle;\n",
       "    }\n",
       "\n",
       "    .dataframe tbody tr th {\n",
       "        vertical-align: top;\n",
       "    }\n",
       "\n",
       "    .dataframe thead th {\n",
       "        text-align: right;\n",
       "    }\n",
       "</style>\n",
       "<table border=\"1\" class=\"dataframe\">\n",
       "  <thead>\n",
       "    <tr style=\"text-align: right;\">\n",
       "      <th></th>\n",
       "      <th>budget</th>\n",
       "      <th>genres</th>\n",
       "      <th>homepage</th>\n",
       "      <th>id</th>\n",
       "      <th>keywords</th>\n",
       "      <th>original_language</th>\n",
       "      <th>original_title</th>\n",
       "      <th>overview</th>\n",
       "      <th>popularity</th>\n",
       "      <th>production_companies</th>\n",
       "      <th>...</th>\n",
       "      <th>runtime</th>\n",
       "      <th>spoken_languages</th>\n",
       "      <th>status</th>\n",
       "      <th>tagline</th>\n",
       "      <th>title</th>\n",
       "      <th>vote_average</th>\n",
       "      <th>vote_count</th>\n",
       "      <th>tittle</th>\n",
       "      <th>cast</th>\n",
       "      <th>crew</th>\n",
       "    </tr>\n",
       "  </thead>\n",
       "  <tbody>\n",
       "    <tr>\n",
       "      <th>0</th>\n",
       "      <td>237000000</td>\n",
       "      <td>[{\"id\": 28, \"name\": \"Action\"}, {\"id\": 12, \"nam...</td>\n",
       "      <td>http://www.avatarmovie.com/</td>\n",
       "      <td>19995</td>\n",
       "      <td>[{\"id\": 1463, \"name\": \"culture clash\"}, {\"id\":...</td>\n",
       "      <td>en</td>\n",
       "      <td>Avatar</td>\n",
       "      <td>In the 22nd century, a paraplegic Marine is di...</td>\n",
       "      <td>150.437577</td>\n",
       "      <td>[{\"name\": \"Ingenious Film Partners\", \"id\": 289...</td>\n",
       "      <td>...</td>\n",
       "      <td>162.0</td>\n",
       "      <td>[{\"iso_639_1\": \"en\", \"name\": \"English\"}, {\"iso...</td>\n",
       "      <td>Released</td>\n",
       "      <td>Enter the World of Pandora.</td>\n",
       "      <td>Avatar</td>\n",
       "      <td>7.2</td>\n",
       "      <td>11800</td>\n",
       "      <td>Avatar</td>\n",
       "      <td>[{\"cast_id\": 242, \"character\": \"Jake Sully\", \"...</td>\n",
       "      <td>[{\"credit_id\": \"52fe48009251416c750aca23\", \"de...</td>\n",
       "    </tr>\n",
       "    <tr>\n",
       "      <th>1</th>\n",
       "      <td>300000000</td>\n",
       "      <td>[{\"id\": 12, \"name\": \"Adventure\"}, {\"id\": 14, \"...</td>\n",
       "      <td>http://disney.go.com/disneypictures/pirates/</td>\n",
       "      <td>285</td>\n",
       "      <td>[{\"id\": 270, \"name\": \"ocean\"}, {\"id\": 726, \"na...</td>\n",
       "      <td>en</td>\n",
       "      <td>Pirates of the Caribbean: At World's End</td>\n",
       "      <td>Captain Barbossa, long believed to be dead, ha...</td>\n",
       "      <td>139.082615</td>\n",
       "      <td>[{\"name\": \"Walt Disney Pictures\", \"id\": 2}, {\"...</td>\n",
       "      <td>...</td>\n",
       "      <td>169.0</td>\n",
       "      <td>[{\"iso_639_1\": \"en\", \"name\": \"English\"}]</td>\n",
       "      <td>Released</td>\n",
       "      <td>At the end of the world, the adventure begins.</td>\n",
       "      <td>Pirates of the Caribbean: At World's End</td>\n",
       "      <td>6.9</td>\n",
       "      <td>4500</td>\n",
       "      <td>Pirates of the Caribbean: At World's End</td>\n",
       "      <td>[{\"cast_id\": 4, \"character\": \"Captain Jack Spa...</td>\n",
       "      <td>[{\"credit_id\": \"52fe4232c3a36847f800b579\", \"de...</td>\n",
       "    </tr>\n",
       "    <tr>\n",
       "      <th>2</th>\n",
       "      <td>245000000</td>\n",
       "      <td>[{\"id\": 28, \"name\": \"Action\"}, {\"id\": 12, \"nam...</td>\n",
       "      <td>http://www.sonypictures.com/movies/spectre/</td>\n",
       "      <td>206647</td>\n",
       "      <td>[{\"id\": 470, \"name\": \"spy\"}, {\"id\": 818, \"name...</td>\n",
       "      <td>en</td>\n",
       "      <td>Spectre</td>\n",
       "      <td>A cryptic message from Bond��s past sends him ...</td>\n",
       "      <td>107.376788</td>\n",
       "      <td>[{\"name\": \"Columbia Pictures\", \"id\": 5}, {\"nam...</td>\n",
       "      <td>...</td>\n",
       "      <td>148.0</td>\n",
       "      <td>[{\"iso_639_1\": \"fr\", \"name\": \"Fran\\u00e7ais\"},...</td>\n",
       "      <td>Released</td>\n",
       "      <td>A Plan No One Escapes</td>\n",
       "      <td>Spectre</td>\n",
       "      <td>6.3</td>\n",
       "      <td>4466</td>\n",
       "      <td>Spectre</td>\n",
       "      <td>[{\"cast_id\": 1, \"character\": \"James Bond\", \"cr...</td>\n",
       "      <td>[{\"credit_id\": \"54805967c3a36829b5002c41\", \"de...</td>\n",
       "    </tr>\n",
       "    <tr>\n",
       "      <th>3</th>\n",
       "      <td>250000000</td>\n",
       "      <td>[{\"id\": 28, \"name\": \"Action\"}, {\"id\": 80, \"nam...</td>\n",
       "      <td>http://www.thedarkknightrises.com/</td>\n",
       "      <td>49026</td>\n",
       "      <td>[{\"id\": 849, \"name\": \"dc comics\"}, {\"id\": 853,...</td>\n",
       "      <td>en</td>\n",
       "      <td>The Dark Knight Rises</td>\n",
       "      <td>Following the death of District Attorney Harve...</td>\n",
       "      <td>112.312950</td>\n",
       "      <td>[{\"name\": \"Legendary Pictures\", \"id\": 923}, {\"...</td>\n",
       "      <td>...</td>\n",
       "      <td>165.0</td>\n",
       "      <td>[{\"iso_639_1\": \"en\", \"name\": \"English\"}]</td>\n",
       "      <td>Released</td>\n",
       "      <td>The Legend Ends</td>\n",
       "      <td>The Dark Knight Rises</td>\n",
       "      <td>7.6</td>\n",
       "      <td>9106</td>\n",
       "      <td>The Dark Knight Rises</td>\n",
       "      <td>[{\"cast_id\": 2, \"character\": \"Bruce Wayne / Ba...</td>\n",
       "      <td>[{\"credit_id\": \"52fe4781c3a36847f81398c3\", \"de...</td>\n",
       "    </tr>\n",
       "    <tr>\n",
       "      <th>4</th>\n",
       "      <td>260000000</td>\n",
       "      <td>[{\"id\": 28, \"name\": \"Action\"}, {\"id\": 12, \"nam...</td>\n",
       "      <td>http://movies.disney.com/john-carter</td>\n",
       "      <td>49529</td>\n",
       "      <td>[{\"id\": 818, \"name\": \"based on novel\"}, {\"id\":...</td>\n",
       "      <td>en</td>\n",
       "      <td>John Carter</td>\n",
       "      <td>John Carter is a war-weary, former military ca...</td>\n",
       "      <td>43.926995</td>\n",
       "      <td>[{\"name\": \"Walt Disney Pictures\", \"id\": 2}]</td>\n",
       "      <td>...</td>\n",
       "      <td>132.0</td>\n",
       "      <td>[{\"iso_639_1\": \"en\", \"name\": \"English\"}]</td>\n",
       "      <td>Released</td>\n",
       "      <td>Lost in our world, found in another.</td>\n",
       "      <td>John Carter</td>\n",
       "      <td>6.1</td>\n",
       "      <td>2124</td>\n",
       "      <td>John Carter</td>\n",
       "      <td>[{\"cast_id\": 5, \"character\": \"John Carter\", \"c...</td>\n",
       "      <td>[{\"credit_id\": \"52fe479ac3a36847f813eaa3\", \"de...</td>\n",
       "    </tr>\n",
       "  </tbody>\n",
       "</table>\n",
       "<p>5 rows × 23 columns</p>\n",
       "</div>"
      ],
      "text/plain": [
       "      budget                                             genres  \\\n",
       "0  237000000  [{\"id\": 28, \"name\": \"Action\"}, {\"id\": 12, \"nam...   \n",
       "1  300000000  [{\"id\": 12, \"name\": \"Adventure\"}, {\"id\": 14, \"...   \n",
       "2  245000000  [{\"id\": 28, \"name\": \"Action\"}, {\"id\": 12, \"nam...   \n",
       "3  250000000  [{\"id\": 28, \"name\": \"Action\"}, {\"id\": 80, \"nam...   \n",
       "4  260000000  [{\"id\": 28, \"name\": \"Action\"}, {\"id\": 12, \"nam...   \n",
       "\n",
       "                                       homepage      id  \\\n",
       "0                   http://www.avatarmovie.com/   19995   \n",
       "1  http://disney.go.com/disneypictures/pirates/     285   \n",
       "2   http://www.sonypictures.com/movies/spectre/  206647   \n",
       "3            http://www.thedarkknightrises.com/   49026   \n",
       "4          http://movies.disney.com/john-carter   49529   \n",
       "\n",
       "                                            keywords original_language  \\\n",
       "0  [{\"id\": 1463, \"name\": \"culture clash\"}, {\"id\":...                en   \n",
       "1  [{\"id\": 270, \"name\": \"ocean\"}, {\"id\": 726, \"na...                en   \n",
       "2  [{\"id\": 470, \"name\": \"spy\"}, {\"id\": 818, \"name...                en   \n",
       "3  [{\"id\": 849, \"name\": \"dc comics\"}, {\"id\": 853,...                en   \n",
       "4  [{\"id\": 818, \"name\": \"based on novel\"}, {\"id\":...                en   \n",
       "\n",
       "                             original_title  \\\n",
       "0                                    Avatar   \n",
       "1  Pirates of the Caribbean: At World's End   \n",
       "2                                   Spectre   \n",
       "3                     The Dark Knight Rises   \n",
       "4                               John Carter   \n",
       "\n",
       "                                            overview  popularity  \\\n",
       "0  In the 22nd century, a paraplegic Marine is di...  150.437577   \n",
       "1  Captain Barbossa, long believed to be dead, ha...  139.082615   \n",
       "2  A cryptic message from Bond��s past sends him ...  107.376788   \n",
       "3  Following the death of District Attorney Harve...  112.312950   \n",
       "4  John Carter is a war-weary, former military ca...   43.926995   \n",
       "\n",
       "                                production_companies  ... runtime  \\\n",
       "0  [{\"name\": \"Ingenious Film Partners\", \"id\": 289...  ...   162.0   \n",
       "1  [{\"name\": \"Walt Disney Pictures\", \"id\": 2}, {\"...  ...   169.0   \n",
       "2  [{\"name\": \"Columbia Pictures\", \"id\": 5}, {\"nam...  ...   148.0   \n",
       "3  [{\"name\": \"Legendary Pictures\", \"id\": 923}, {\"...  ...   165.0   \n",
       "4        [{\"name\": \"Walt Disney Pictures\", \"id\": 2}]  ...   132.0   \n",
       "\n",
       "                                    spoken_languages    status  \\\n",
       "0  [{\"iso_639_1\": \"en\", \"name\": \"English\"}, {\"iso...  Released   \n",
       "1           [{\"iso_639_1\": \"en\", \"name\": \"English\"}]  Released   \n",
       "2  [{\"iso_639_1\": \"fr\", \"name\": \"Fran\\u00e7ais\"},...  Released   \n",
       "3           [{\"iso_639_1\": \"en\", \"name\": \"English\"}]  Released   \n",
       "4           [{\"iso_639_1\": \"en\", \"name\": \"English\"}]  Released   \n",
       "\n",
       "                                          tagline  \\\n",
       "0                     Enter the World of Pandora.   \n",
       "1  At the end of the world, the adventure begins.   \n",
       "2                           A Plan No One Escapes   \n",
       "3                                 The Legend Ends   \n",
       "4            Lost in our world, found in another.   \n",
       "\n",
       "                                      title vote_average vote_count  \\\n",
       "0                                    Avatar          7.2      11800   \n",
       "1  Pirates of the Caribbean: At World's End          6.9       4500   \n",
       "2                                   Spectre          6.3       4466   \n",
       "3                     The Dark Knight Rises          7.6       9106   \n",
       "4                               John Carter          6.1       2124   \n",
       "\n",
       "                                     tittle  \\\n",
       "0                                    Avatar   \n",
       "1  Pirates of the Caribbean: At World's End   \n",
       "2                                   Spectre   \n",
       "3                     The Dark Knight Rises   \n",
       "4                               John Carter   \n",
       "\n",
       "                                                cast  \\\n",
       "0  [{\"cast_id\": 242, \"character\": \"Jake Sully\", \"...   \n",
       "1  [{\"cast_id\": 4, \"character\": \"Captain Jack Spa...   \n",
       "2  [{\"cast_id\": 1, \"character\": \"James Bond\", \"cr...   \n",
       "3  [{\"cast_id\": 2, \"character\": \"Bruce Wayne / Ba...   \n",
       "4  [{\"cast_id\": 5, \"character\": \"John Carter\", \"c...   \n",
       "\n",
       "                                                crew  \n",
       "0  [{\"credit_id\": \"52fe48009251416c750aca23\", \"de...  \n",
       "1  [{\"credit_id\": \"52fe4232c3a36847f800b579\", \"de...  \n",
       "2  [{\"credit_id\": \"54805967c3a36829b5002c41\", \"de...  \n",
       "3  [{\"credit_id\": \"52fe4781c3a36847f81398c3\", \"de...  \n",
       "4  [{\"credit_id\": \"52fe479ac3a36847f813eaa3\", \"de...  \n",
       "\n",
       "[5 rows x 23 columns]"
      ]
     },
     "execution_count": 3,
     "metadata": {},
     "output_type": "execute_result"
    }
   ],
   "source": [
    "df2.head(5)"
   ]
  },
  {
   "cell_type": "markdown",
   "id": "5b2df5e2",
   "metadata": {},
   "source": [
    "## 传统协同过滤-Demographic Filtering（人口统计学推荐）\n",
    "\n",
    "根据电影的受欢迎程度或类型为每个用户提供一般化的推荐。系统向具有相似人口统计特征的用户推荐相同的电影。由于每个用户都是不同的，所以这种方法被认为太简单了。这一系统背后的基本思想是，更受欢迎、更受好评的电影更有可能被普通观众喜欢。\n"
   ]
  },
  {
   "cell_type": "markdown",
   "id": "18242e0b",
   "metadata": {},
   "source": [
    "我们需要做如下工作：\n",
    "* 设定一个指标来给电影打分\n",
    "* 计算每部电影的得分\n",
    "* 对评分进行排序，向用户推荐评分最好的电影。\n",
    "\n",
    "我们可以用电影的平均评分作为评分，但这样做并不公平，因为平均评分8.9、只有3票的电影不能被认为比平均评分7.8、但有40票的电影好。所以将使用IMDB的加权评分(wr)\n",
    "\n",
    "### wr=(v/(v+m) * R) + (m/(m+v) * C)\n",
    "\n",
    "其中：\n",
    "* V是电影的票数\n",
    "* M是在图表中列出所需的最低票数\n",
    "* R是电影的平均评分\n",
    "* C是整个报告的平均票数"
   ]
  },
  {
   "cell_type": "code",
   "execution_count": 4,
   "id": "7eaaf08b",
   "metadata": {},
   "outputs": [
    {
     "data": {
      "text/plain": [
       "6.092171559442011"
      ]
     },
     "execution_count": 4,
     "metadata": {},
     "output_type": "execute_result"
    }
   ],
   "source": [
    "C= df2['vote_average'].mean()\n",
    "C"
   ]
  },
  {
   "cell_type": "markdown",
   "id": "31904e82",
   "metadata": {},
   "source": [
    "所有电影的平均评分大约是6分(满分10分)。下一步是确定m的合适值，即图表中列出的最小投票数。我们将使用第90百分位作为我们的截止点。换句话说，一部电影要想登上榜单，它的票数必须至少超过榜单上90%的电影。"
   ]
  },
  {
   "cell_type": "code",
   "execution_count": 5,
   "id": "7f598bcd",
   "metadata": {},
   "outputs": [
    {
     "data": {
      "text/plain": [
       "1838.4000000000015"
      ]
     },
     "execution_count": 5,
     "metadata": {},
     "output_type": "execute_result"
    }
   ],
   "source": [
    "m= df2['vote_count'].quantile(0.9)\n",
    "m"
   ]
  },
  {
   "cell_type": "code",
   "execution_count": 6,
   "id": "cdfc16f9",
   "metadata": {},
   "outputs": [
    {
     "data": {
      "text/plain": [
       "(481, 23)"
      ]
     },
     "execution_count": 6,
     "metadata": {},
     "output_type": "execute_result"
    }
   ],
   "source": [
    "q_movies = df2.copy().loc[df2['vote_count'] >= m]\n",
    "q_movies.shape"
   ]
  },
  {
   "cell_type": "markdown",
   "id": "e1dd2a3a",
   "metadata": {},
   "source": [
    "可以看到有481部电影符合这个名单。现在，需要为每一部合格的电影计算指标。为此，这里需要定义一个函数weighted_rating()，并定义一个新的特征评分，我们将通过将该函数应用到合格电影的DataFrame来计算其值:"
   ]
  },
  {
   "cell_type": "code",
   "execution_count": 7,
   "id": "2bacfc8d",
   "metadata": {},
   "outputs": [],
   "source": [
    "def weighted_rating(x, m=m, C=C):\n",
    "    v = x['vote_count']\n",
    "    R = x['vote_average']\n",
    "    # Calculation based on the IMDB formula\n",
    "    return (v/(v+m) * R) + (m/(m+v) * C)"
   ]
  },
  {
   "cell_type": "code",
   "execution_count": 8,
   "id": "a61cf1f7",
   "metadata": {},
   "outputs": [],
   "source": [
    "# 定义一个新特性'score'并使用' weighted_rating() '计算它的值\n",
    "q_movies['score'] = q_movies.apply(weighted_rating, axis=1)"
   ]
  },
  {
   "cell_type": "markdown",
   "id": "0db9ce6c",
   "metadata": {},
   "source": [
    "最后，让我们根据评分特性对DataFrame进行排序，并输出前10部电影的标题、投票计数、投票平均值和加权评分或评分。"
   ]
  },
  {
   "cell_type": "code",
   "execution_count": 9,
   "id": "7c59f5f3",
   "metadata": {},
   "outputs": [
    {
     "data": {
      "text/html": [
       "<div>\n",
       "<style scoped>\n",
       "    .dataframe tbody tr th:only-of-type {\n",
       "        vertical-align: middle;\n",
       "    }\n",
       "\n",
       "    .dataframe tbody tr th {\n",
       "        vertical-align: top;\n",
       "    }\n",
       "\n",
       "    .dataframe thead th {\n",
       "        text-align: right;\n",
       "    }\n",
       "</style>\n",
       "<table border=\"1\" class=\"dataframe\">\n",
       "  <thead>\n",
       "    <tr style=\"text-align: right;\">\n",
       "      <th></th>\n",
       "      <th>title</th>\n",
       "      <th>vote_count</th>\n",
       "      <th>vote_average</th>\n",
       "      <th>score</th>\n",
       "    </tr>\n",
       "  </thead>\n",
       "  <tbody>\n",
       "    <tr>\n",
       "      <th>1881</th>\n",
       "      <td>The Shawshank Redemption</td>\n",
       "      <td>8205</td>\n",
       "      <td>8.5</td>\n",
       "      <td>8.059258</td>\n",
       "    </tr>\n",
       "    <tr>\n",
       "      <th>662</th>\n",
       "      <td>Fight Club</td>\n",
       "      <td>9413</td>\n",
       "      <td>8.3</td>\n",
       "      <td>7.939256</td>\n",
       "    </tr>\n",
       "    <tr>\n",
       "      <th>65</th>\n",
       "      <td>The Dark Knight</td>\n",
       "      <td>12002</td>\n",
       "      <td>8.2</td>\n",
       "      <td>7.920020</td>\n",
       "    </tr>\n",
       "    <tr>\n",
       "      <th>3232</th>\n",
       "      <td>Pulp Fiction</td>\n",
       "      <td>8428</td>\n",
       "      <td>8.3</td>\n",
       "      <td>7.904645</td>\n",
       "    </tr>\n",
       "    <tr>\n",
       "      <th>96</th>\n",
       "      <td>Inception</td>\n",
       "      <td>13752</td>\n",
       "      <td>8.1</td>\n",
       "      <td>7.863239</td>\n",
       "    </tr>\n",
       "    <tr>\n",
       "      <th>3337</th>\n",
       "      <td>The Godfather</td>\n",
       "      <td>5893</td>\n",
       "      <td>8.4</td>\n",
       "      <td>7.851236</td>\n",
       "    </tr>\n",
       "    <tr>\n",
       "      <th>95</th>\n",
       "      <td>Interstellar</td>\n",
       "      <td>10867</td>\n",
       "      <td>8.1</td>\n",
       "      <td>7.809479</td>\n",
       "    </tr>\n",
       "    <tr>\n",
       "      <th>809</th>\n",
       "      <td>Forrest Gump</td>\n",
       "      <td>7927</td>\n",
       "      <td>8.2</td>\n",
       "      <td>7.803188</td>\n",
       "    </tr>\n",
       "    <tr>\n",
       "      <th>329</th>\n",
       "      <td>The Lord of the Rings: The Return of the King</td>\n",
       "      <td>8064</td>\n",
       "      <td>8.1</td>\n",
       "      <td>7.727243</td>\n",
       "    </tr>\n",
       "    <tr>\n",
       "      <th>1990</th>\n",
       "      <td>The Empire Strikes Back</td>\n",
       "      <td>5879</td>\n",
       "      <td>8.2</td>\n",
       "      <td>7.697884</td>\n",
       "    </tr>\n",
       "    <tr>\n",
       "      <th>262</th>\n",
       "      <td>The Lord of the Rings: The Fellowship of the Ring</td>\n",
       "      <td>8705</td>\n",
       "      <td>8.0</td>\n",
       "      <td>7.667341</td>\n",
       "    </tr>\n",
       "    <tr>\n",
       "      <th>2912</th>\n",
       "      <td>Star Wars</td>\n",
       "      <td>6624</td>\n",
       "      <td>8.1</td>\n",
       "      <td>7.663813</td>\n",
       "    </tr>\n",
       "    <tr>\n",
       "      <th>1818</th>\n",
       "      <td>Schindler's List</td>\n",
       "      <td>4329</td>\n",
       "      <td>8.3</td>\n",
       "      <td>7.641883</td>\n",
       "    </tr>\n",
       "    <tr>\n",
       "      <th>3865</th>\n",
       "      <td>Whiplash</td>\n",
       "      <td>4254</td>\n",
       "      <td>8.3</td>\n",
       "      <td>7.633781</td>\n",
       "    </tr>\n",
       "    <tr>\n",
       "      <th>330</th>\n",
       "      <td>The Lord of the Rings: The Two Towers</td>\n",
       "      <td>7487</td>\n",
       "      <td>8.0</td>\n",
       "      <td>7.623893</td>\n",
       "    </tr>\n",
       "  </tbody>\n",
       "</table>\n",
       "</div>"
      ],
      "text/plain": [
       "                                                  title  vote_count  \\\n",
       "1881                           The Shawshank Redemption        8205   \n",
       "662                                          Fight Club        9413   \n",
       "65                                      The Dark Knight       12002   \n",
       "3232                                       Pulp Fiction        8428   \n",
       "96                                            Inception       13752   \n",
       "3337                                      The Godfather        5893   \n",
       "95                                         Interstellar       10867   \n",
       "809                                        Forrest Gump        7927   \n",
       "329       The Lord of the Rings: The Return of the King        8064   \n",
       "1990                            The Empire Strikes Back        5879   \n",
       "262   The Lord of the Rings: The Fellowship of the Ring        8705   \n",
       "2912                                          Star Wars        6624   \n",
       "1818                                   Schindler's List        4329   \n",
       "3865                                           Whiplash        4254   \n",
       "330               The Lord of the Rings: The Two Towers        7487   \n",
       "\n",
       "      vote_average     score  \n",
       "1881           8.5  8.059258  \n",
       "662            8.3  7.939256  \n",
       "65             8.2  7.920020  \n",
       "3232           8.3  7.904645  \n",
       "96             8.1  7.863239  \n",
       "3337           8.4  7.851236  \n",
       "95             8.1  7.809479  \n",
       "809            8.2  7.803188  \n",
       "329            8.1  7.727243  \n",
       "1990           8.2  7.697884  \n",
       "262            8.0  7.667341  \n",
       "2912           8.1  7.663813  \n",
       "1818           8.3  7.641883  \n",
       "3865           8.3  7.633781  \n",
       "330            8.0  7.623893  "
      ]
     },
     "execution_count": 9,
     "metadata": {},
     "output_type": "execute_result"
    }
   ],
   "source": [
    "#根据上面计算的分数对电影进行排序\n",
    "q_movies = q_movies.sort_values('score', ascending=False)\n",
    "\n",
    "#排名前15的电影\n",
    "q_movies[['title', 'vote_count', 'vote_average', 'score']].head(15)"
   ]
  },
  {
   "cell_type": "markdown",
   "id": "11a8f965",
   "metadata": {},
   "source": [
    "我们已经制作了第一个(虽然非常基本)推荐器。在Trending Now选项卡下，我们可以找到非常流行的电影，它们可以通过按popularity列对数据集进行排序来获得。"
   ]
  },
  {
   "cell_type": "code",
   "execution_count": 10,
   "id": "344d766e",
   "metadata": {},
   "outputs": [
    {
     "data": {
      "text/plain": [
       "Text(0.5, 1.0, 'Popular Movies')"
      ]
     },
     "execution_count": 10,
     "metadata": {},
     "output_type": "execute_result"
    },
    {
     "data": {
      "image/png": "[encoded data removed]",
      "text/plain": [
       "<Figure size 864x288 with 1 Axes>"
      ]
     },
     "metadata": {
      "needs_background": "light"
     },
     "output_type": "display_data"
    }
   ],
   "source": [
    "pop= df2.sort_values('popularity', ascending=False)\n",
    "import matplotlib.pyplot as plt\n",
    "plt.figure(figsize=(12,4))\n",
    "\n",
    "plt.barh(pop['title'].head(6),pop['popularity'].head(6), align='center',\n",
    "        color='skyblue')\n",
    "plt.gca().invert_yaxis()\n",
    "plt.xlabel(\"Popularity\")\n",
    "plt.title(\"Popular Movies\")"
   ]
  },
  {
   "cell_type": "markdown",
   "id": "baffbaf3",
   "metadata": {},
   "source": [
    "传统协同过滤为所有用户提供了一个推荐电影的总体图表。但这个推荐系统对特定用户的兴趣和品味并不敏感。这时我们就转向一个更精细的系统——Content Based Filtering。"
   ]
  },
  {
   "cell_type": "markdown",
   "id": "8668aa42",
   "metadata": {},
   "source": [
    "## 基于内容的过滤-Content Based Filtering\n",
    "\n",
    "根据一个特定的项目推荐相似的项目。该系统使用项目元数据，如电影的类型，导演，描述，演员等，来做出这些推荐。这些推荐系统背后的基本思想是:如果一个人喜欢某件商品，他(她)也会喜欢与之相似的商品。在这个推荐系统中，电影的内容(概述，演员，工作人员，关键词，标语等)被用来寻找它与其他电影的相似性。然后推荐那些最有可能相似的电影。"
   ]
  },
  {
   "cell_type": "markdown",
   "id": "4e99b18a",
   "metadata": {},
   "source": [
    "### A.基于电影情节描述的推荐"
   ]
  },
  {
   "cell_type": "markdown",
   "id": "820473db",
   "metadata": {},
   "source": [
    "本节将根据所有电影的情节描述计算成对的相似度分数，并根据相似度分数推荐电影。电影情节概要已在数据集中给出。让我们看一下数据"
   ]
  },
  {
   "cell_type": "code",
   "execution_count": 11,
   "id": "6284c8a9",
   "metadata": {},
   "outputs": [
    {
     "data": {
      "text/plain": [
       "0    In the 22nd century, a paraplegic Marine is di...\n",
       "1    Captain Barbossa, long believed to be dead, ha...\n",
       "2    A cryptic message from Bond��s past sends him ...\n",
       "3    Following the death of District Attorney Harve...\n",
       "4    John Carter is a war-weary, former military ca...\n",
       "Name: overview, dtype: object"
      ]
     },
     "execution_count": 11,
     "metadata": {},
     "output_type": "execute_result"
    }
   ],
   "source": [
    "df2['overview'].head(5)"
   ]
  },
  {
   "cell_type": "markdown",
   "id": "473c5293",
   "metadata": {},
   "source": [
    "学过文本处理的同学，应该知道我们需要转换每句情节描述的词向量。这里我们选择将句子转化为TF-IDF向量。"
   ]
  },
  {
   "cell_type": "code",
   "execution_count": 12,
   "id": "2b96ea27",
   "metadata": {},
   "outputs": [
    {
     "data": {
      "text/plain": [
       "(4803, 20967)"
      ]
     },
     "execution_count": 12,
     "metadata": {},
     "output_type": "execute_result"
    }
   ],
   "source": [
    "from sklearn.feature_extraction.text import TfidfVectorizer\n",
    "\n",
    "#删除所有英语停顿词，如'the'， 'a'\n",
    "tfidf = TfidfVectorizer(stop_words='english')\n",
    "\n",
    "#将NaN替换为空字符串\n",
    "df2['overview'] = df2['overview'].fillna('')\n",
    "\n",
    "#通过拟合和变换数据，构造所需的TF-IDF矩阵\n",
    "tfidf_matrix = tfidf.fit_transform(df2['overview'])\n",
    "\n",
    "#查看tfidf_matrix的形状\n",
    "tfidf_matrix.shape"
   ]
  },
  {
   "attachments": {
    "%E5%9B%BE%E7%89%87.png": {
     "image/png": "[encoded data removed]"
    }
   },
   "cell_type": "markdown",
   "id": "7840aa11",
   "metadata": {},
   "source": [
    "我们发现，超过20,000个不同的单词被用来描述数据集中的4800部电影。\n",
    "\n",
    "有了这个矩阵，现在可以计算相似度分数。这里将使用余弦相似度来计算一个表示两部电影之间相似度的数值。\n",
    "\n",
    "![%E5%9B%BE%E7%89%87.png](attachment:%E5%9B%BE%E7%89%87.png)"
   ]
  },
  {
   "cell_type": "code",
   "execution_count": 13,
   "id": "91f2e909",
   "metadata": {},
   "outputs": [],
   "source": [
    "from sklearn.metrics.pairwise import linear_kernel\n",
    "\n",
    "# 计算余弦相似度矩阵\n",
    "cosine_sim = linear_kernel(tfidf_matrix, tfidf_matrix)"
   ]
  },
  {
   "cell_type": "markdown",
   "id": "36900098",
   "metadata": {},
   "source": [
    "这里定义一个函数，它接受电影标题作为输入，并输出10部最相似的电影的列表。函数定义步骤如下：\n",
    "* 根据电影的标题获取电影的索引\n",
    "* 获取特定电影与所有电影的余弦相似度分数列表。将它转换为一个元组列表，其中第一个元素是它的位置，第二个元素是相似度分数\n",
    "* 根据相似度评分对上述元组列表进行排序;也就是第二个元素\n",
    "* 获取列表中的前10个元素。因为第一个元素是电影本身所以需要忽略"
   ]
  },
  {
   "cell_type": "code",
   "execution_count": 14,
   "id": "fa2e6834",
   "metadata": {},
   "outputs": [],
   "source": [
    "#构建一个索引和电影名称的反向映射\n",
    "indices = pd.Series(df2.index, index=df2['title']).drop_duplicates()"
   ]
  },
  {
   "cell_type": "code",
   "execution_count": 15,
   "id": "ca1a95da",
   "metadata": {},
   "outputs": [],
   "source": [
    "#函数以电影标题作为输入并输出最相似的电影\n",
    "def get_recommendations(title, cosine_sim=cosine_sim):\n",
    "    idx = indices[title]\n",
    "    \n",
    "    # 获取所有电影与该电影的配对相似度分数\n",
    "    sim_scores = list(enumerate(cosine_sim[idx]))\n",
    "\n",
    "    # 根据相似度评分对电影进行排序\n",
    "    sim_scores = sorted(sim_scores, key=lambda x: x[1], reverse=True)\n",
    "\n",
    "    # 获取最相似的10部电影\n",
    "    sim_scores = sim_scores[1:11]\n",
    "\n",
    "    # 获取电影索引\n",
    "    movie_indices = [i[0] for i in sim_scores]\n",
    "\n",
    "    # 返回最相似的前10部电影\n",
    "    return df2['title'].iloc[movie_indices]"
   ]
  },
  {
   "cell_type": "code",
   "execution_count": 16,
   "id": "f4f3cdc0",
   "metadata": {},
   "outputs": [
    {
     "data": {
      "text/plain": [
       "65                              The Dark Knight\n",
       "299                              Batman Forever\n",
       "428                              Batman Returns\n",
       "1359                                     Batman\n",
       "3854    Batman: The Dark Knight Returns, Part 2\n",
       "119                               Batman Begins\n",
       "2507                                  Slow Burn\n",
       "9            Batman v Superman: Dawn of Justice\n",
       "1181                                        JFK\n",
       "210                              Batman & Robin\n",
       "Name: title, dtype: object"
      ]
     },
     "execution_count": 16,
     "metadata": {},
     "output_type": "execute_result"
    }
   ],
   "source": [
    "get_recommendations('The Dark Knight Rises')"
   ]
  },
  {
   "cell_type": "code",
   "execution_count": 17,
   "id": "d075deb2",
   "metadata": {},
   "outputs": [
    {
     "data": {
      "text/plain": [
       "7               Avengers: Age of Ultron\n",
       "3144                            Plastic\n",
       "1715                            Timecop\n",
       "4124                 This Thing of Ours\n",
       "3311              Thank You for Smoking\n",
       "3033                      The Corruptor\n",
       "588     Wall Street: Money Never Sleeps\n",
       "2136         Team America: World Police\n",
       "1468                       The Fountain\n",
       "1286                        Snowpiercer\n",
       "Name: title, dtype: object"
      ]
     },
     "execution_count": 17,
     "metadata": {},
     "output_type": "execute_result"
    }
   ],
   "source": [
    "get_recommendations('The Avengers')"
   ]
  },
  {
   "cell_type": "markdown",
   "id": "bc11d8af",
   "metadata": {},
   "source": [
    "虽然这个系统在寻找剧情描述相似的电影方面做得不错，但推荐的质量并不好。《黑暗骑士崛起》退回了所有蝙蝠侠电影，而喜欢这部电影的人更有可能喜欢克里斯托弗·诺兰的其他电影。这是目前的系统无法捕捉到的。"
   ]
  },
  {
   "cell_type": "markdown",
   "id": "f8b6c773",
   "metadata": {},
   "source": [
    "### B.基于电影演员、类型和关键词为基础的推荐"
   ]
  },
  {
   "cell_type": "markdown",
   "id": "abecff5e",
   "metadata": {},
   "source": [
    "推荐器的质量将随着更好更多的元数据的使用而提高。本节我们将基于以下元数据建立一个推荐:3位最受欢迎的演员，导演，相关类型和电影情节关键词。\n",
    "从演员，工作人员和关键词特征中，我们需要提取三个最重要的演员，导演和与该电影相关的关键词。现在，我们的数据是以“字符串化”列表的形式呈现的，我们需要将其转换为规范化的结构"
   ]
  },
  {
   "cell_type": "code",
   "execution_count": 18,
   "id": "6d5aec73",
   "metadata": {},
   "outputs": [],
   "source": [
    "from ast import literal_eval\n",
    "#将字符串化的特性解析为相应的python对象\n",
    "features = ['cast', 'crew', 'keywords', 'genres']\n",
    "for feature in features:\n",
    "    df2[feature] = df2[feature].apply(literal_eval)"
   ]
  },
  {
   "cell_type": "code",
   "execution_count": 19,
   "id": "fd4c00c9",
   "metadata": {},
   "outputs": [],
   "source": [
    "#从剧组特写里找到导演的名字。如果没有列出director，则返回NaN\n",
    "def get_director(x):\n",
    "    for i in x:\n",
    "        if i['job'] == 'Director':\n",
    "            return i['name']\n",
    "    return np.nan"
   ]
  },
  {
   "cell_type": "code",
   "execution_count": 20,
   "id": "e6aed3ea",
   "metadata": {},
   "outputs": [],
   "source": [
    "#获取电影的前三个主演\n",
    "def get_list(x):\n",
    "    if isinstance(x, list):\n",
    "        names = [i['name'] for i in x]\n",
    "        #检查是否存在3个以上的元素。如果是，只返回前三个。如果没有，返回整个列表。\n",
    "        if len(names) > 3:\n",
    "            names = names[:3]\n",
    "        return names\n",
    "\n",
    "    #返回空列表，以防畸形数据\n",
    "    return []"
   ]
  },
  {
   "cell_type": "code",
   "execution_count": 21,
   "id": "3c6479d2",
   "metadata": {},
   "outputs": [],
   "source": [
    "#确定新的导演，演员，类型和关键字，以合适的形式特征。\n",
    "df2['director'] = df2['crew'].apply(get_director)\n",
    "\n",
    "features = ['cast', 'keywords', 'genres']\n",
    "for feature in features:\n",
    "    df2[feature] = df2[feature].apply(get_list)"
   ]
  },
  {
   "cell_type": "code",
   "execution_count": 22,
   "id": "bdfee8db",
   "metadata": {},
   "outputs": [
    {
     "data": {
      "text/html": [
       "<div>\n",
       "<style scoped>\n",
       "    .dataframe tbody tr th:only-of-type {\n",
       "        vertical-align: middle;\n",
       "    }\n",
       "\n",
       "    .dataframe tbody tr th {\n",
       "        vertical-align: top;\n",
       "    }\n",
       "\n",
       "    .dataframe thead th {\n",
       "        text-align: right;\n",
       "    }\n",
       "</style>\n",
       "<table border=\"1\" class=\"dataframe\">\n",
       "  <thead>\n",
       "    <tr style=\"text-align: right;\">\n",
       "      <th></th>\n",
       "      <th>title</th>\n",
       "      <th>cast</th>\n",
       "      <th>director</th>\n",
       "      <th>keywords</th>\n",
       "      <th>genres</th>\n",
       "    </tr>\n",
       "  </thead>\n",
       "  <tbody>\n",
       "    <tr>\n",
       "      <th>0</th>\n",
       "      <td>Avatar</td>\n",
       "      <td>[Sam Worthington, Zoe Saldana, Sigourney Weaver]</td>\n",
       "      <td>James Cameron</td>\n",
       "      <td>[culture clash, future, space war]</td>\n",
       "      <td>[Action, Adventure, Fantasy]</td>\n",
       "    </tr>\n",
       "    <tr>\n",
       "      <th>1</th>\n",
       "      <td>Pirates of the Caribbean: At World's End</td>\n",
       "      <td>[Johnny Depp, Orlando Bloom, Keira Knightley]</td>\n",
       "      <td>Gore Verbinski</td>\n",
       "      <td>[ocean, drug abuse, exotic island]</td>\n",
       "      <td>[Adventure, Fantasy, Action]</td>\n",
       "    </tr>\n",
       "    <tr>\n",
       "      <th>2</th>\n",
       "      <td>Spectre</td>\n",
       "      <td>[Daniel Craig, Christoph Waltz, Léa Seydoux]</td>\n",
       "      <td>Sam Mendes</td>\n",
       "      <td>[spy, based on novel, secret agent]</td>\n",
       "      <td>[Action, Adventure, Crime]</td>\n",
       "    </tr>\n",
       "  </tbody>\n",
       "</table>\n",
       "</div>"
      ],
      "text/plain": [
       "                                      title  \\\n",
       "0                                    Avatar   \n",
       "1  Pirates of the Caribbean: At World's End   \n",
       "2                                   Spectre   \n",
       "\n",
       "                                               cast        director  \\\n",
       "0  [Sam Worthington, Zoe Saldana, Sigourney Weaver]   James Cameron   \n",
       "1     [Johnny Depp, Orlando Bloom, Keira Knightley]  Gore Verbinski   \n",
       "2      [Daniel Craig, Christoph Waltz, Léa Seydoux]      Sam Mendes   \n",
       "\n",
       "                              keywords                        genres  \n",
       "0   [culture clash, future, space war]  [Action, Adventure, Fantasy]  \n",
       "1   [ocean, drug abuse, exotic island]  [Adventure, Fantasy, Action]  \n",
       "2  [spy, based on novel, secret agent]    [Action, Adventure, Crime]  "
      ]
     },
     "execution_count": 22,
     "metadata": {},
     "output_type": "execute_result"
    }
   ],
   "source": [
    "df2[['title', 'cast', 'director', 'keywords', 'genres']].head(3)"
   ]
  },
  {
   "cell_type": "markdown",
   "id": "cca7ac35",
   "metadata": {},
   "source": [
    "下一步是将名称和关键字实例转换为小写，并去掉它们之间的所有空格。这样做是为了使我们的矢量器不把\"Johnny Depp\"和\"Johnny Galecki\" 中的“Johnny”算作同一个人。"
   ]
  },
  {
   "cell_type": "code",
   "execution_count": 23,
   "id": "9c194548",
   "metadata": {},
   "outputs": [],
   "source": [
    "#函数将所有字符串转换为小写并去掉空格名称\n",
    "def clean_data(x):\n",
    "    if isinstance(x, list):\n",
    "        return [str.lower(i.replace(\" \", \"\")) for i in x]\n",
    "    else:\n",
    "        #Check if director exists. If not, return empty string\n",
    "        if isinstance(x, str):\n",
    "            return str.lower(x.replace(\" \", \"\"))\n",
    "        else:\n",
    "            return ''"
   ]
  },
  {
   "cell_type": "code",
   "execution_count": 24,
   "id": "38249579",
   "metadata": {},
   "outputs": [],
   "source": [
    "features = ['cast', 'keywords', 'director', 'genres']\n",
    "\n",
    "for feature in features:\n",
    "    df2[feature] = df2[feature].apply(clean_data)"
   ]
  },
  {
   "cell_type": "code",
   "execution_count": 25,
   "id": "975fc8b3",
   "metadata": {},
   "outputs": [],
   "source": [
    "def create_soup(x):\n",
    "    return ' '.join(x['keywords']) + ' ' + ' '.join(x['cast']) + ' ' + x['director'] + ' ' + ' '.join(x['genres'])\n",
    "df2['soup'] = df2.apply(create_soup, axis=1)"
   ]
  },
  {
   "cell_type": "markdown",
   "id": "983181ba",
   "metadata": {},
   "source": [
    "接下来的步骤与我们在基于情节描述的推荐中所做的相同。一个重要的区别是我们使用CountVectorizer()而不是TF-IDF。因为如果某个演员/导演出演或导演的电影相对较多，那么要提高这些人的推荐指数。"
   ]
  },
  {
   "cell_type": "code",
   "execution_count": 26,
   "id": "49c89ab9",
   "metadata": {},
   "outputs": [],
   "source": [
    "from sklearn.feature_extraction.text import CountVectorizer\n",
    "\n",
    "count = CountVectorizer(stop_words='english')\n",
    "count_matrix = count.fit_transform(df2['soup'])"
   ]
  },
  {
   "cell_type": "code",
   "execution_count": 27,
   "id": "9105c7b2",
   "metadata": {},
   "outputs": [],
   "source": [
    "from sklearn.metrics.pairwise import cosine_similarity\n",
    "\n",
    "cosine_sim2 = cosine_similarity(count_matrix, count_matrix)"
   ]
  },
  {
   "cell_type": "code",
   "execution_count": 28,
   "id": "bae999c0",
   "metadata": {},
   "outputs": [],
   "source": [
    "df2 = df2.reset_index()\n",
    "indices = pd.Series(df2.index, index=df2['title'])"
   ]
  },
  {
   "cell_type": "code",
   "execution_count": 29,
   "id": "41c37402",
   "metadata": {},
   "outputs": [
    {
     "data": {
      "text/plain": [
       "65               The Dark Knight\n",
       "119                Batman Begins\n",
       "4638    Amidst the Devil's Wings\n",
       "1196                The Prestige\n",
       "3073           Romeo Is Bleeding\n",
       "3326              Black November\n",
       "1503                      Takers\n",
       "1986                      Faster\n",
       "303                     Catwoman\n",
       "747               Gangster Squad\n",
       "Name: title, dtype: object"
      ]
     },
     "execution_count": 29,
     "metadata": {},
     "output_type": "execute_result"
    }
   ],
   "source": [
    "get_recommendations('The Dark Knight Rises', cosine_sim2)"
   ]
  },
  {
   "cell_type": "code",
   "execution_count": 30,
   "id": "436ed494",
   "metadata": {},
   "outputs": [
    {
     "data": {
      "text/plain": [
       "867      The Godfather: Part III\n",
       "2731      The Godfather: Part II\n",
       "4638    Amidst the Devil's Wings\n",
       "2649           The Son of No One\n",
       "1525              Apocalypse Now\n",
       "1018             The Cotton Club\n",
       "1170     The Talented Mr. Ripley\n",
       "1209               The Rainmaker\n",
       "1394               Donnie Brasco\n",
       "1850                    Scarface\n",
       "Name: title, dtype: object"
      ]
     },
     "execution_count": 30,
     "metadata": {},
     "output_type": "execute_result"
    }
   ],
   "source": [
    "get_recommendations('The Godfather', cosine_sim2)"
   ]
  },
  {
   "cell_type": "markdown",
   "id": "80a9f17f",
   "metadata": {},
   "source": [
    "我们看到，由于更多的元数据，我们的推荐器成功地捕获了更多的信息，并给了我们更好的推荐。漫威或DC漫画的粉丝更有可能喜欢同一制作公司的电影，对此我们也可以在上面的特性中添加production_company。"
   ]
  }
 ],
 "metadata": {
  "kernelspec": {
   "display_name": "Python 3",
   "language": "python",
   "name": "python3"
  },
  "language_info": {
   "codemirror_mode": {
    "name": "ipython",
    "version": 3
   },
   "file_extension": ".py",
   "mimetype": "text/x-python",
   "name": "python",
   "nbconvert_exporter": "python",
   "pygments_lexer": "ipython3",
   "version": "3.8.8"
  }
 },
 "nbformat": 4,
 "nbformat_minor": 5
}
